{
 "cells": [
  {
   "cell_type": "code",
   "execution_count": 49,
   "metadata": {},
   "outputs": [
    {
     "data": {
      "text/plain": [
       "{'*': 'TAA TAG TGA',\n",
       " 'A': 'GCA GCC GCG GCT',\n",
       " 'C': 'TGC TGT',\n",
       " 'D': 'GAC GAT',\n",
       " 'E': 'GAA GAG',\n",
       " 'F': 'TTC TTT',\n",
       " 'G': 'GGA GGC GGG GGT',\n",
       " 'H': 'CAC CAT',\n",
       " 'I': 'ATA ATC ATT',\n",
       " 'K': 'AAA AAG',\n",
       " 'L': 'CTA CTC CTG CTT TTA TTG',\n",
       " 'M': 'ATG',\n",
       " 'N': 'AAC AAT',\n",
       " 'P': 'CCA CCC CCG CCT',\n",
       " 'Q': 'CAA CAG',\n",
       " 'R': 'AGA AGG CGA CGC CGG CGT',\n",
       " 'S': 'AGC AGT TCA TCC TCG TCT',\n",
       " 'T': 'ACA ACC ACG ACT',\n",
       " 'V': 'GTA GTC GTG GTT',\n",
       " 'W': 'TGG',\n",
       " 'Y': 'TAC TAT'}"
      ]
     },
     "execution_count": 49,
     "metadata": {},
     "output_type": "execute_result"
    }
   ],
   "source": [
    "#! /usr/bin/env python3\n",
    "\n",
    "def get_lookup():\n",
    "\n",
    "    # Obtained from https://stackoverflow.com/questions/19521905/translation-dna-to-protein\n",
    "    return {\n",
    "    'ATA':'I', 'ATC':'I', 'ATT':'I', 'ATG':'M',\n",
    "    'ACA':'T', 'ACC':'T', 'ACG':'T', 'ACT':'T',\n",
    "    'AAC':'N', 'AAT':'N', 'AAA':'K', 'AAG':'K',\n",
    "    'AGC':'S', 'AGT':'S', 'AGA':'R', 'AGG':'R',\n",
    "    'CTA':'L', 'CTC':'L', 'CTG':'L', 'CTT':'L',\n",
    "    'CCA':'P', 'CCC':'P', 'CCG':'P', 'CCT':'P',\n",
    "    'CAC':'H', 'CAT':'H', 'CAA':'Q', 'CAG':'Q',\n",
    "    'CGA':'R', 'CGC':'R', 'CGG':'R', 'CGT':'R',\n",
    "    'GTA':'V', 'GTC':'V', 'GTG':'V', 'GTT':'V',\n",
    "    'GCA':'A', 'GCC':'A', 'GCG':'A', 'GCT':'A',\n",
    "    'GAC':'D', 'GAT':'D', 'GAA':'E', 'GAG':'E',\n",
    "    'GGA':'G', 'GGC':'G', 'GGG':'G', 'GGT':'G',\n",
    "    'TCA':'S', 'TCC':'S', 'TCG':'S', 'TCT':'S',\n",
    "    'TTC':'F', 'TTT':'F', 'TTA':'L', 'TTG':'L',\n",
    "    'TAC':'Y', 'TAT':'Y', 'TAA':'*', 'TAG':'*',\n",
    "    'TGC':'C', 'TGT':'C', 'TGA':'*', 'TGG':'W',\n",
    "    }\n",
    "\n",
    "lookup = get_lookup()\n",
    "\n",
    "# function takes information from get_lookup() and creates new library \n",
    "# with amino acid codes as keys, and codons as values\n",
    "def translate_codon():\n",
    "    codons = {}\n",
    "    for key, value in lookup.items():\n",
    "        # if key not in library, adds key with corresponding codon\n",
    "        if value not in codons:\n",
    "            codons[value] = key\n",
    "        \n",
    "        # if key already in new library, adds the corresponding codon \n",
    "        # to the existing dictionary value\n",
    "        else:\n",
    "            codons[value] += \" \" + key\n",
    "    \n",
    "    return codons\n",
    "\n",
    "translate_codon()"
   ]
  },
  {
   "cell_type": "code",
   "execution_count": null,
   "metadata": {},
   "outputs": [],
   "source": []
  }
 ],
 "metadata": {
  "kernelspec": {
   "display_name": "Python 3",
   "language": "python",
   "name": "python3"
  },
  "language_info": {
   "codemirror_mode": {
    "name": "ipython",
    "version": 3
   },
   "file_extension": ".py",
   "mimetype": "text/x-python",
   "name": "python",
   "nbconvert_exporter": "python",
   "pygments_lexer": "ipython3",
   "version": "3.6.3rc1"
  }
 },
 "nbformat": 4,
 "nbformat_minor": 2
}
