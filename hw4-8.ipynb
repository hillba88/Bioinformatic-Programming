{
 "cells": [
  {
   "cell_type": "code",
   "execution_count": 17,
   "metadata": {},
   "outputs": [
    {
     "name": "stdout",
     "output_type": "stream",
     "text": [
      "enter a species:mays\n",
      "enter a species:bicolor\n",
      "enter a species:esculenta\n",
      "enter a species:lypersicum\n",
      "enter a species:pratense\n",
      "enter a species:lypersicum\n",
      "enter a species:\n",
      "enter a species:mays\n",
      "enter a species:bicolor\n",
      "enter a species:\n",
      "enter a species:\n",
      "enter a species:mays\n"
     ]
    }
   ],
   "source": [
    "#! /usr/bin/env python3\n",
    "\n",
    "\n",
    "# create function with default parameters 4 and True\n",
    "def my_func(x=4, default=True):\n",
    "    # if default is True, lets user exit program \n",
    "    # early with empty string\n",
    "    if default == True:\n",
    "         for _ in range(x):\n",
    "            species = input(\"enter a species:\")\n",
    "            if species == \"\": break\n",
    "    # if default is False, prompts for user input\n",
    "    # x number of times\n",
    "    else:\n",
    "        for _ in range(x):\n",
    "            species = input(\"enter a species:\")\n",
    "        \n",
    "    return\n",
    "\n",
    "# call function with variations on parameter values\n",
    "my_func()\n",
    "my_func(2)\n",
    "my_func(default=False)\n",
    "my_func(2, False)"
   ]
  },
  {
   "cell_type": "code",
   "execution_count": null,
   "metadata": {},
   "outputs": [],
   "source": []
  }
 ],
 "metadata": {
  "kernelspec": {
   "display_name": "Python 3",
   "language": "python",
   "name": "python3"
  },
  "language_info": {
   "codemirror_mode": {
    "name": "ipython",
    "version": 3
   },
   "file_extension": ".py",
   "mimetype": "text/x-python",
   "name": "python",
   "nbconvert_exporter": "python",
   "pygments_lexer": "ipython3",
   "version": "3.6.3rc1"
  }
 },
 "nbformat": 4,
 "nbformat_minor": 2
}
