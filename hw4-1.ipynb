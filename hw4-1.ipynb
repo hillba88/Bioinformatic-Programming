{
 "cells": [
  {
   "cell_type": "code",
   "execution_count": 37,
   "metadata": {},
   "outputs": [
    {
     "name": "stdout",
     "output_type": "stream",
     "text": [
      "enter a string of numbers123456\n",
      "('1', '6', 3.5)\n"
     ]
    }
   ],
   "source": [
    "#! /usr/bin/env python3\n",
    "\n",
    "def sumstat(user):   \n",
    "        summ = 0\n",
    "        for x in user:\n",
    "            summ += int(x)\n",
    "            \n",
    "        minimum = min(user)\n",
    "        maxx = max(user)\n",
    "        mean = summ / len(user)\n",
    "        \n",
    "        return (minimum, maxx, mean)\n",
    "    \n",
    "user = input(\"enter a string of numbers\")\n",
    "\n",
    "print(sumstat(user))\n",
    "\n"
   ]
  }
 ],
 "metadata": {
  "kernelspec": {
   "display_name": "Python 3",
   "language": "python",
   "name": "python3"
  },
  "language_info": {
   "codemirror_mode": {
    "name": "ipython",
    "version": 3
   },
   "file_extension": ".py",
   "mimetype": "text/x-python",
   "name": "python",
   "nbconvert_exporter": "python",
   "pygments_lexer": "ipython3",
   "version": "3.6.3rc1"
  }
 },
 "nbformat": 4,
 "nbformat_minor": 2
}
