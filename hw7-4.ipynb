{
 "cells": [
  {
   "cell_type": "code",
   "execution_count": 3,
   "metadata": {},
   "outputs": [],
   "source": [
    "import os\n",
    "\n",
    "try:\n",
    "    # iterate through target directory and if entry is a file, foo bar\n",
    "    for entry in os.scandir(\"/Users/Ben/hw7/hw7/hw7-3-files\"):   \n",
    "        entry_stat = entry.stat()\n",
    "        # if entry is a file and the size is greater than 50 bytes, foo bar\n",
    "        if entry.is_file() and entry_stat.st_size > 50:\n",
    "            with open(entry.path, \"r\") as my_file:\n",
    "                # opens target path and writes content o file to output file\n",
    "                with open(\"hw7-4.output\", \"w\") as out_file:\n",
    "                    out_file.write(my_file.read())\n",
    "                \n",
    "except IOError:\n",
    "    print(\"IO Error\")\n",
    "\n",
    "# foo bar"
   ]
  },
  {
   "cell_type": "code",
   "execution_count": null,
   "metadata": {},
   "outputs": [],
   "source": []
  }
 ],
 "metadata": {
  "kernelspec": {
   "display_name": "Python 3",
   "language": "python",
   "name": "python3"
  },
  "language_info": {
   "codemirror_mode": {
    "name": "ipython",
    "version": 3
   },
   "file_extension": ".py",
   "mimetype": "text/x-python",
   "name": "python",
   "nbconvert_exporter": "python",
   "pygments_lexer": "ipython3",
   "version": "3.6.3rc1"
  }
 },
 "nbformat": 4,
 "nbformat_minor": 2
}
