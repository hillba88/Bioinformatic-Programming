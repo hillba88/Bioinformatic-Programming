{
 "cells": [
  {
   "cell_type": "code",
   "execution_count": 33,
   "metadata": {},
   "outputs": [
    {
     "name": "stdout",
     "output_type": "stream",
     "text": [
      "N: \n",
      "P: \n",
      "N: AGTCTCGTCGTCGC\n",
      "P: AGTCGTCGTTGC\n"
     ]
    }
   ],
   "source": [
    "#! /usr/bin/env python3\n",
    "\n",
    "\n",
    "class Sequence:\n",
    "    \n",
    "    # creates a helper function which detects whether a given \"seq\" is a \n",
    "    # nucleotide or protein sequence\n",
    "    def sequence_type(seq):\n",
    "        valid_seq = \"ATCG\"\n",
    "        for i in seq:\n",
    "            if i not in valid_seq:\n",
    "                return False\n",
    "            return True\n",
    "    # ovverides __str__ method to return \"<seq_type>:<seq>\"       \n",
    "    def __str__(self):\n",
    "        return \"{0}: {1}\".format(self.seq_type, self.seq)\n",
    "   \n",
    "    # init method takes two optional parameters, seq and seq_type, which have default values.\n",
    "    def __init__(self, seq =\"\", seq_type=\"N\"):\n",
    "        self.seq = seq\n",
    "        self.seq_type = seq_type\n",
    "        \n",
    "        # if sequence is provided, but no type, checks sequence type with helper method\n",
    "        if seq != \"\" and seq_type == \"\":\n",
    "            self.seq_type = \"P\" if Sequence.sequence_type(seq) == False else \"N\" \n",
    "       \n",
    "        # if sequence and type are provided, and nucleotide type is specified, checks sequence\n",
    "        # type with helper method. This allows user to override and specify a protein type for a\n",
    "        # string containing only \"AGTC\"\n",
    "        if seq != \"\" and seq_type != \"\":\n",
    "            if seq_type == \"N\":\n",
    "                self.seq_type = \"P\" if Sequence.sequence_type(seq) == False else \"N\"\n",
    "        \n",
    "        \n",
    "# instance using default parameters        \n",
    "no_args = Sequence()\n",
    "print(no_args)\n",
    "\n",
    "# instance with default sequence, of protein seq_type\n",
    "p_type = Sequence(seq_type = \"P\")\n",
    "print(p_type)\n",
    "\n",
    "# instance with nucleotide sequence and default seq_type\n",
    "nuc_seq = Sequence(\"AGTCTCGTCGTCGC\")\n",
    "print(nuc_seq)\n",
    "\n",
    "# instance with given sequence, and \"P\" seq_type\n",
    "p_seq = Sequence(\"AGTCGTCGTTGC\", \"P\")\n",
    "print(p_seq)\n",
    "            \n",
    "        "
   ]
  }
 ],
 "metadata": {
  "kernelspec": {
   "display_name": "Python 3",
   "language": "python",
   "name": "python3"
  },
  "language_info": {
   "codemirror_mode": {
    "name": "ipython",
    "version": 3
   },
   "file_extension": ".py",
   "mimetype": "text/x-python",
   "name": "python",
   "nbconvert_exporter": "python",
   "pygments_lexer": "ipython3",
   "version": "3.6.3rc1"
  }
 },
 "nbformat": 4,
 "nbformat_minor": 2
}
