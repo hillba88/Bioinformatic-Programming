{
 "cells": [
  {
   "cell_type": "code",
   "execution_count": 3,
   "metadata": {},
   "outputs": [
    {
     "name": "stdout",
     "output_type": "stream",
     "text": [
      "enter string:ron\n",
      "enter string:brown\n",
      "enter string:string\n",
      "enter string:\n",
      "['string', 'brown', 'ron']\n"
     ]
    }
   ],
   "source": [
    "#! /usr/bin/env python3\n",
    "\n",
    "# Function takes list and prints reverse of list\n",
    "def rev(x):\n",
    "    if len(x) == 1: # base case\n",
    "        return x\n",
    "   \n",
    "    # returns the last item and sequentially returns all objects \n",
    "    # to the left, until base case is met\n",
    "    return [x[-1]] + rev(x[:-1])\n",
    "    \n",
    "listy = []    \n",
    "\n",
    "# take user input until empty string and append to a list\n",
    "while True:\n",
    "    user = input(\"enter string:\")\n",
    "    if user == \"\":\n",
    "        break\n",
    "    listy.append(user)\n",
    "\n",
    "# call the function with list as parameter x\n",
    "print(rev(listy))"
   ]
  }
 ],
 "metadata": {
  "kernelspec": {
   "display_name": "Python 3",
   "language": "python",
   "name": "python3"
  },
  "language_info": {
   "codemirror_mode": {
    "name": "ipython",
    "version": 3
   },
   "file_extension": ".py",
   "mimetype": "text/x-python",
   "name": "python",
   "nbconvert_exporter": "python",
   "pygments_lexer": "ipython3",
   "version": "3.6.3rc1"
  }
 },
 "nbformat": 4,
 "nbformat_minor": 2
}
