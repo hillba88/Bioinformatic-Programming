{
 "cells": [
  {
   "cell_type": "code",
   "execution_count": 7,
   "metadata": {
    "scrolled": true
   },
   "outputs": [
    {
     "name": "stdout",
     "output_type": "stream",
     "text": [
      "please enter a stringron brown string\n",
      "please enter a stringfat cat cat\n",
      "please enter a string\n",
      "dict_keys(['ron', 'brown', 'string'])\n",
      "dict_values(['fat', 'cat', 'cat'])\n",
      "dict_items([('ron', 'fat'), ('brown', 'cat'), ('string', 'cat')])\n"
     ]
    }
   ],
   "source": [
    "#! /usr/bin/env python3\n",
    "\n",
    "# creates empty dictionary\n",
    "user_dict = {}\n",
    "\n",
    "def dict_func():\n",
    "    # accepts user input, specifying dictionary key until empty string\n",
    "    while True:\n",
    "        us_key = input(\"please enter a string\")\n",
    "        if us_key == \"\":\n",
    "            break\n",
    "        \n",
    "        # splits string at spaces\n",
    "        key = us_key.split(\" \")\n",
    "        \n",
    "        # takes user input, specifying dictionary value and splits at spaces\n",
    "        us_val = input(\"please enter a string\")\n",
    "        val = us_val.split(\" \")\n",
    "        \n",
    "        # populate dictionary with aforementioned keys and values\n",
    "        length = len(key)\n",
    "        for i in range(length):\n",
    "            user_dict[key[i]] = val[i]\n",
    "\n",
    "    return user_dict\n",
    "\n",
    "# call function\n",
    "dict_func()\n",
    "\n",
    "# print dictionary keys, values, and key/value combinations\n",
    "print(user_dict.keys()) \n",
    "print(user_dict.values())\n",
    "print(user_dict.items())\n",
    "\n"
   ]
  }
 ],
 "metadata": {
  "kernelspec": {
   "display_name": "Python 3",
   "language": "python",
   "name": "python3"
  },
  "language_info": {
   "codemirror_mode": {
    "name": "ipython",
    "version": 3
   },
   "file_extension": ".py",
   "mimetype": "text/x-python",
   "name": "python",
   "nbconvert_exporter": "python",
   "pygments_lexer": "ipython3",
   "version": "3.6.3rc1"
  }
 },
 "nbformat": 4,
 "nbformat_minor": 2
}
