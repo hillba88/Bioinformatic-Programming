{
 "cells": [
  {
   "cell_type": "code",
   "execution_count": 1,
   "metadata": {},
   "outputs": [
    {
     "name": "stdout",
     "output_type": "stream",
     "text": [
      "Enter a nucleotide stringTAGGATAGCGAGT\n",
      "Please enter a command: revcomp, stop, gcrevcomp\n",
      "ACTCGCTATCCTA\n",
      "Please enter a command: revcomp, stop, gcstop\n",
      "True\n",
      "Please enter a command: revcomp, stop, gcgc\n",
      "0.46153846153846156\n",
      "Please enter a command: revcomp, stop, gcSNP call\n",
      "Error\n"
     ]
    }
   ],
   "source": [
    "#! /usr/bin/env python3\n",
    "\n",
    "# (a) returns reverse compliment to nucleotide string input\n",
    "def Revcomp(seq):\n",
    "    rev_seq = \"\"\n",
    "    \n",
    "    for char in seq[::-1]:\n",
    "        if char == \"A\":\n",
    "            rev_seq += \"T\"\n",
    "        if char == \"T\":\n",
    "            rev_seq += \"A\"\n",
    "        if char == \"C\":\n",
    "            rev_seq += \"G\"\n",
    "        if char == \"G\":\n",
    "            rev_seq += \"C\"\n",
    "    \n",
    "    return rev_seq\n",
    "\n",
    "# (b) stop codon (standard genetic code) detection in \n",
    "# nucleotide input, returns Boolean\n",
    "def Stop_codon(seq):    \n",
    "    if 'TGA' in seq:\n",
    "        return True\n",
    "    if 'TAA' in seq:\n",
    "        return True\n",
    "    if 'TAG' in seq:\n",
    "        return True\n",
    "    \n",
    "    return False\n",
    "    \n",
    "\n",
    "# (c) calculates \"GC\" content and returns floating point representing\n",
    "# decimal percentage of \"GC\" content\n",
    "def GC_count(seq):\n",
    "    gc_count = seq.count(\"G\") + seq.count(\"C\")\n",
    "    \n",
    "    return float(gc_count / len(seq))\n",
    "\n",
    "# (d) master function that takes an input direting the function to \n",
    "# then call other functions\n",
    "def Master(seq, command):\n",
    "    if command == \"revcomp\":\n",
    "        print(Revcomp(seq))\n",
    "    elif command == \"stop\":\n",
    "        print(Stop_codon(seq))\n",
    "    elif command == \"gc\":\n",
    "        print(GC_count(seq))\n",
    "    else:\n",
    "        print(\"Error\")\n",
    "        \n",
    "# take user input for sequence, and command for master function        \n",
    "seq = input(\"Enter a nucleotide string\")\n",
    "command = input(\"Please enter a command: revcomp, stop, gc\")\n",
    "\n",
    "# call function and test all possible outcomes\n",
    "Master(seq, command)\n",
    "command = input(\"Please enter a command: revcomp, stop, gc\")\n",
    "Master(seq, command)\n",
    "command = input(\"Please enter a command: revcomp, stop, gc\")\n",
    "Master(seq, command)\n",
    "command = input(\"Please enter a command: revcomp, stop, gc\")\n",
    "Master(seq, command)\n",
    "\n",
    "            "
   ]
  }
 ],
 "metadata": {
  "kernelspec": {
   "display_name": "Python 3",
   "language": "python",
   "name": "python3"
  },
  "language_info": {
   "codemirror_mode": {
    "name": "ipython",
    "version": 3
   },
   "file_extension": ".py",
   "mimetype": "text/x-python",
   "name": "python",
   "nbconvert_exporter": "python",
   "pygments_lexer": "ipython3",
   "version": "3.6.3rc1"
  }
 },
 "nbformat": 4,
 "nbformat_minor": 2
}
