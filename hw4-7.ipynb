{
 "cells": [
  {
   "cell_type": "code",
   "execution_count": 5,
   "metadata": {},
   "outputs": [
    {
     "name": "stdout",
     "output_type": "stream",
     "text": [
      "True\n",
      "False\n"
     ]
    }
   ],
   "source": [
    "#! /usr/bin/env python3\n",
    "\n",
    "# creates list \"things\" with two objects\n",
    "things = [\"car\", \"shoes\"]\n",
    "# assigns second variable equal to list\n",
    "stuff = things\n",
    "# adds item to list\n",
    "things.append(\"cat\")\n",
    "# checks to see if \"stuff\" and \"things\" are referring to the same object\n",
    "print(stuff is things)\n",
    "\n",
    "\n",
    "# wraps \"things\" in a list operator and assigns to second variable\n",
    "stuff = list(things)\n",
    "# demonstrates that \"stuff2\" and \"things\" refer to different objects\n",
    "print(stuff is things)\n",
    "\n"
   ]
  },
  {
   "cell_type": "code",
   "execution_count": null,
   "metadata": {},
   "outputs": [],
   "source": []
  }
 ],
 "metadata": {
  "kernelspec": {
   "display_name": "Python 3",
   "language": "python",
   "name": "python3"
  },
  "language_info": {
   "codemirror_mode": {
    "name": "ipython",
    "version": 3
   },
   "file_extension": ".py",
   "mimetype": "text/x-python",
   "name": "python",
   "nbconvert_exporter": "python",
   "pygments_lexer": "ipython3",
   "version": "3.6.3rc1"
  }
 },
 "nbformat": 4,
 "nbformat_minor": 2
}
