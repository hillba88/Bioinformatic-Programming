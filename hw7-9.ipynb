{
 "cells": [
  {
   "cell_type": "code",
   "execution_count": 10,
   "metadata": {},
   "outputs": [
    {
     "name": "stdout",
     "output_type": "stream",
     "text": [
      "again\n",
      "\n"
     ]
    }
   ],
   "source": [
    "try:\n",
    "    # open a new file, append if it already exists\n",
    "    with open(\"hw7-9.output\", \"a\") as file:\n",
    "        # accept user input until empty string\n",
    "        while True:\n",
    "            user = input()\n",
    "            if user == \"\":\n",
    "                break\n",
    "            # writes user input to line, including linefeed\n",
    "            file.write(\"{0}\\n\".format(user))\n",
    "   \n",
    "except IOError:\n",
    "    print(\"IO Error!\")\n",
    "            "
   ]
  }
 ],
 "metadata": {
  "kernelspec": {
   "display_name": "Python 3",
   "language": "python",
   "name": "python3"
  },
  "language_info": {
   "codemirror_mode": {
    "name": "ipython",
    "version": 3
   },
   "file_extension": ".py",
   "mimetype": "text/x-python",
   "name": "python",
   "nbconvert_exporter": "python",
   "pygments_lexer": "ipython3",
   "version": "3.6.3rc1"
  }
 },
 "nbformat": 4,
 "nbformat_minor": 2
}
