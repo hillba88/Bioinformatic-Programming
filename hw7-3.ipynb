{
 "cells": [
  {
   "cell_type": "code",
   "execution_count": 4,
   "metadata": {},
   "outputs": [
    {
     "name": "stdout",
     "output_type": "stream",
     "text": [
      "\n",
      "Dim: Yes, and I've a few questions I'd like to ask Cardinal so-called Richelieu.\n",
      "\n",
      "Cardinal: Bonjour Monsieur Dim.\n",
      "\n",
      "Dim: So-called Cardinal, I put it to you that you died in December 1642.\n",
      "\n",
      "Cardinal: That is correct.\n",
      "\n",
      "Dim: Ah ha! He fell for my little trap. \n",
      "\n",
      "The Larch\n",
      "\n",
      "This parrot is no more! \n",
      "He has ceased to be! \n",
      "'E's expired and gone to meet 'is maker! \n",
      "'E's a stiff! Bereft of life, 'e rests in peace!\n",
      "If you hadn't nailed 'im to the perch 'e'd be pushing up the daisies! \n",
      "'Is metabolic processes are now 'istory! \n",
      "'E's off the twig! 'E's kicked the bucket, 'e's shuffled off 'is mortal coil, \n",
      "run down the curtain and joined the bleedin' choir invisible!! THIS IS AN EX-PARROT!!\n",
      "\n",
      "\n",
      "Penguin on the telly\n",
      "\n",
      "Well, there's egg and bacon; egg sausage and bacon; egg and spam; egg bacon and spam; egg bacon sausage and spam; spam bacon sausage and spam; spam egg spam spam bacon and spam; spam sausage spam spam bacon spam tomato and spam; spam spam spam egg and spam; spam spam spam spam spam spam baked beans spam spam spam; or Lobster Thermidor au Crevette with a Mornay sauce served in a Provencale manner with shallots and aubergines garnished with truffle pate, brandy and with a fried egg on top and spam.\n",
      "\n"
     ]
    }
   ],
   "source": [
    "import os\n",
    "\n",
    "try:\n",
    "    # iterate through target directory and if entry is a file, open the file \n",
    "    # and print contents to the screen\n",
    "    for entry in os.scandir(\"/Users/Ben/hw7/hw7/hw7-3-files\"):   \n",
    "        if entry.is_file():\n",
    "            with open(entry.path, \"r\") as my_file:\n",
    "                print(my_file.read())\n",
    "                \n",
    "except IOError:\n",
    "    prin(\"IO Error\")\n"
   ]
  }
 ],
 "metadata": {
  "kernelspec": {
   "display_name": "Python 3",
   "language": "python",
   "name": "python3"
  },
  "language_info": {
   "codemirror_mode": {
    "name": "ipython",
    "version": 3
   },
   "file_extension": ".py",
   "mimetype": "text/x-python",
   "name": "python",
   "nbconvert_exporter": "python",
   "pygments_lexer": "ipython3",
   "version": "3.6.3rc1"
  }
 },
 "nbformat": 4,
 "nbformat_minor": 2
}
