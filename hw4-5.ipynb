{
 "cells": [
  {
   "cell_type": "code",
   "execution_count": 8,
   "metadata": {},
   "outputs": [
    {
     "name": "stdout",
     "output_type": "stream",
     "text": [
      "enter a nucleotide string:TAGGGGAGGAGCGGCCGAGTATATAAAATT\n",
      "{'TAGG': 1, 'AGGG': 1, 'GGGG': 1, 'GGGA': 1, 'GGAG': 2, 'GAGG': 1, 'AGGA': 1, 'GAGC': 1, 'AGCG': 1, 'GCGG': 1, 'CGGC': 1, 'GGCC': 1, 'GCCG': 1, 'CCGA': 1, 'CGAG': 1, 'GAGT': 1, 'AGTA': 1, 'GTAT': 1, 'TATA': 2, 'ATAT': 1, 'ATAA': 1, 'TAAA': 1, 'AAAA': 1}\n"
     ]
    }
   ],
   "source": [
    "#! /usr/bin/bash\n",
    "\n",
    "kmer_lib = {}\n",
    "\n",
    "# function takes nucleotide string input and adds all possible\n",
    "def Kmers(seq):\n",
    "    n = len(seq)\n",
    "    # loops over the 4mer start positions and adds 4mer if not in library.\n",
    "    # if in library already, adds 1\n",
    "    for i in range(0, n-5):\n",
    "        kmer = seq[i:i+4]    \n",
    "        if kmer not in kmer_lib:\n",
    "            kmer_lib[kmer] = 0\n",
    "        kmer_lib[kmer] += 1        \n",
    "           \n",
    "    return kmer_lib\n",
    "\n",
    "seq = input(\"enter a nucleotide string:\")\n",
    "print(Kmers(seq))\n",
    "    "
   ]
  },
  {
   "cell_type": "code",
   "execution_count": null,
   "metadata": {},
   "outputs": [],
   "source": []
  }
 ],
 "metadata": {
  "kernelspec": {
   "display_name": "Python 3",
   "language": "python",
   "name": "python3"
  },
  "language_info": {
   "codemirror_mode": {
    "name": "ipython",
    "version": 3
   },
   "file_extension": ".py",
   "mimetype": "text/x-python",
   "name": "python",
   "nbconvert_exporter": "python",
   "pygments_lexer": "ipython3",
   "version": "3.6.3rc1"
  }
 },
 "nbformat": 4,
 "nbformat_minor": 2
}
