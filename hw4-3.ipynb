{
 "cells": [
  {
   "cell_type": "code",
   "execution_count": 54,
   "metadata": {
    "scrolled": true
   },
   "outputs": [
    {
     "name": "stdout",
     "output_type": "stream",
     "text": [
      "please enter a nucleotide string:CCC\n",
      "GGG\n",
      "False\n"
     ]
    }
   ],
   "source": [
    "#! /usr/bin/env python3\n",
    "\n",
    "# this function iterates through a sequence and generates\n",
    "# a reverse compliment to the sequence\n",
    "def Reverse(seq):\n",
    "    rev_seq = \"\"\n",
    "    \n",
    "    for char in seq[::-1]:\n",
    "        if char == \"A\":\n",
    "            rev_seq += \"T\"\n",
    "        if char == \"T\":\n",
    "            rev_seq += \"A\"\n",
    "        if char == \"C\":\n",
    "            rev_seq += \"G\"\n",
    "        if char == \"G\":\n",
    "            rev_seq += \"C\"\n",
    "    \n",
    "    return rev_seq\n",
    "\n",
    "# function searches for specific codons in the sequence and \n",
    "# returns booleans\n",
    "def Stop_codon(seq):    \n",
    "    if 'TGA' in seq:\n",
    "        return True\n",
    "    if 'TAA' in seq:\n",
    "        return True\n",
    "    if 'TAG' in seq:\n",
    "        return True\n",
    "    \n",
    "    return False\n",
    "    \n",
    "# takes user input for nucleotide string   \n",
    "seq = input(\"please enter a nucleotide string:\") \n",
    "\n",
    "print(Reverse(seq))\n",
    "print(Stop_codon(seq))"
   ]
  }
 ],
 "metadata": {
  "kernelspec": {
   "display_name": "Python 3",
   "language": "python",
   "name": "python3"
  },
  "language_info": {
   "codemirror_mode": {
    "name": "ipython",
    "version": 3
   },
   "file_extension": ".py",
   "mimetype": "text/x-python",
   "name": "python",
   "nbconvert_exporter": "python",
   "pygments_lexer": "ipython3",
   "version": "3.6.3rc1"
  }
 },
 "nbformat": 4,
 "nbformat_minor": 2
}
