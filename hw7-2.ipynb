{
 "cells": [
  {
   "cell_type": "code",
   "execution_count": 1,
   "metadata": {},
   "outputs": [],
   "source": [
    "import csv\n",
    "\n",
    "# Similar to hw7-1, writing new file colon delimited, but using csv writer. Lines corresponding to ASCII integer\n",
    "# values 34 and 59 will be different than hw7-1 becuase the ASCII characters are the delimiter and quotes respectively\n",
    "try:\n",
    "    with open(\"hw7-2.output\", \"w\", newline=\"\") as file:\n",
    "        writer = csv.writer(file, delimiter=\";\", quotechar='\"')\n",
    "        for idx in range(32, 128):\n",
    "                ascii_string = [str(idx), hex(idx), chr(idx)] # put each item in list so treat as whole\n",
    "                writer.writerow(ascii_string)\n",
    "            \n",
    "except IOError:\n",
    "    print(\"IO Error!\")\n",
    "    "
   ]
  }
 ],
 "metadata": {
  "kernelspec": {
   "display_name": "Python 3",
   "language": "python",
   "name": "python3"
  },
  "language_info": {
   "codemirror_mode": {
    "name": "ipython",
    "version": 3
   },
   "file_extension": ".py",
   "mimetype": "text/x-python",
   "name": "python",
   "nbconvert_exporter": "python",
   "pygments_lexer": "ipython3",
   "version": "3.6.3rc1"
  }
 },
 "nbformat": 4,
 "nbformat_minor": 2
}
