{
 "cells": [
  {
   "cell_type": "code",
   "execution_count": 2,
   "metadata": {},
   "outputs": [],
   "source": [
    "# opens new file in write mode, and loops through numbers 32-127, printing corresponding\n",
    "# integer value, hex value, and character, colon delimited\n",
    "try:\n",
    "    with open(\"hw7-1.output\", \"w\") as file:\n",
    "        for idx in range(32, 128):\n",
    "            ascii_string = \"{0};{1};{2}\".format(str(idx), hex(idx), chr(idx))\n",
    "            ascii_string += \"\\n\" # add linefeed\n",
    "            file.write(ascii_string)\n",
    "            \n",
    "except IOError:\n",
    "    print(\"IO Error\")\n",
    "            \n",
    "    \n",
    "    "
   ]
  }
 ],
 "metadata": {
  "kernelspec": {
   "display_name": "Python 3",
   "language": "python",
   "name": "python3"
  },
  "language_info": {
   "codemirror_mode": {
    "name": "ipython",
    "version": 3
   },
   "file_extension": ".py",
   "mimetype": "text/x-python",
   "name": "python",
   "nbconvert_exporter": "python",
   "pygments_lexer": "ipython3",
   "version": "3.6.3rc1"
  }
 },
 "nbformat": 4,
 "nbformat_minor": 2
}
